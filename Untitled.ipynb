{
 "cells": [
  {
   "cell_type": "code",
   "execution_count": 1,
   "metadata": {},
   "outputs": [
    {
     "name": "stderr",
     "output_type": "stream",
     "text": [
      "\n",
      "Attaching package: ‘dplyr’\n",
      "\n",
      "The following objects are masked from ‘package:stats’:\n",
      "\n",
      "    filter, lag\n",
      "\n",
      "The following objects are masked from ‘package:base’:\n",
      "\n",
      "    intersect, setdiff, setequal, union\n",
      "\n"
     ]
    }
   ],
   "source": [
    "library(readxl)\n",
    "library(tidyr)\n",
    "library(dplyr)"
   ]
  },
  {
   "cell_type": "code",
   "execution_count": 2,
   "metadata": {
    "collapsed": true
   },
   "outputs": [],
   "source": [
    "dataset  <- read.csv(file='../datamining//dataset_mood_smartphone.csv', head=TRUE, sep=\",\")"
   ]
  },
  {
   "cell_type": "code",
   "execution_count": 3,
   "metadata": {
    "collapsed": true
   },
   "outputs": [],
   "source": [
    "#only necessary columns\n",
    "data  <- dataset[,c(2,3,4,5)]"
   ]
  },
  {
   "cell_type": "code",
   "execution_count": 5,
   "metadata": {},
   "outputs": [],
   "source": [
    "#seperate data from time\n",
    "data_seperated <- separate(data,\n",
    "         col = \"time\",\n",
    "         into = c(\"date\", \"time\"),\n",
    "         sep = \" \")"
   ]
  },
  {
   "cell_type": "code",
   "execution_count": 6,
   "metadata": {},
   "outputs": [
    {
     "data": {
      "text/html": [
       "<table>\n",
       "<thead><tr><th scope=col>id</th><th scope=col>date</th><th scope=col>time</th><th scope=col>variable</th><th scope=col>value</th></tr></thead>\n",
       "<tbody>\n",
       "\t<tr><td>AS14.01     </td><td>2014-02-26  </td><td>13:00:00.000</td><td>mood        </td><td>6           </td></tr>\n",
       "\t<tr><td>AS14.01     </td><td>2014-02-26  </td><td>15:00:00.000</td><td>mood        </td><td>6           </td></tr>\n",
       "\t<tr><td>AS14.01     </td><td>2014-02-26  </td><td>18:00:00.000</td><td>mood        </td><td>6           </td></tr>\n",
       "</tbody>\n",
       "</table>\n"
      ],
      "text/latex": [
       "\\begin{tabular}{r|lllll}\n",
       " id & date & time & variable & value\\\\\n",
       "\\hline\n",
       "\t AS14.01      & 2014-02-26   & 13:00:00.000 & mood         & 6           \\\\\n",
       "\t AS14.01      & 2014-02-26   & 15:00:00.000 & mood         & 6           \\\\\n",
       "\t AS14.01      & 2014-02-26   & 18:00:00.000 & mood         & 6           \\\\\n",
       "\\end{tabular}\n"
      ],
      "text/markdown": [
       "\n",
       "id | date | time | variable | value | \n",
       "|---|---|---|\n",
       "| AS14.01      | 2014-02-26   | 13:00:00.000 | mood         | 6            | \n",
       "| AS14.01      | 2014-02-26   | 15:00:00.000 | mood         | 6            | \n",
       "| AS14.01      | 2014-02-26   | 18:00:00.000 | mood         | 6            | \n",
       "\n",
       "\n"
      ],
      "text/plain": [
       "  id      date       time         variable value\n",
       "1 AS14.01 2014-02-26 13:00:00.000 mood     6    \n",
       "2 AS14.01 2014-02-26 15:00:00.000 mood     6    \n",
       "3 AS14.01 2014-02-26 18:00:00.000 mood     6    "
      ]
     },
     "metadata": {},
     "output_type": "display_data"
    }
   ],
   "source": [
    "head(data_seperated, 3)"
   ]
  },
  {
   "cell_type": "code",
   "execution_count": null,
   "metadata": {
    "collapsed": true
   },
   "outputs": [],
   "source": []
  }
 ],
 "metadata": {
  "kernelspec": {
   "display_name": "R",
   "language": "R",
   "name": "ir"
  },
  "language_info": {
   "codemirror_mode": "r",
   "file_extension": ".r",
   "mimetype": "text/x-r-source",
   "name": "R",
   "pygments_lexer": "r",
   "version": "3.4.3"
  }
 },
 "nbformat": 4,
 "nbformat_minor": 2
}
