{
 "cells": [
  {
   "cell_type": "code",
   "execution_count": 1,
   "metadata": {},
   "outputs": [
    {
     "name": "stderr",
     "output_type": "stream",
     "text": [
      "\n",
      "Attaching package: ‘dplyr’\n",
      "\n",
      "The following objects are masked from ‘package:stats’:\n",
      "\n",
      "    filter, lag\n",
      "\n",
      "The following objects are masked from ‘package:base’:\n",
      "\n",
      "    intersect, setdiff, setequal, union\n",
      "\n"
     ]
    }
   ],
   "source": [
    "library(readxl)\n",
    "library(tidyr)\n",
    "library(dplyr)"
   ]
  },
  {
   "cell_type": "code",
   "execution_count": 2,
   "metadata": {
    "collapsed": true
   },
   "outputs": [],
   "source": [
    "#read data and remove first column\n",
    "data_transformes <- read.csv(file=\"matrix.csv\",head=TRUE,sep=\",\")\n",
    "dt <- data_transformes[,c(2,3,4,5,6,7,8,9,10,11,12,13)]"
   ]
  },
  {
   "cell_type": "code",
   "execution_count": 3,
   "metadata": {
    "collapsed": true
   },
   "outputs": [],
   "source": [
    "#sort by date and remove until 2014-03-15\n",
    "dt <- dt[order(dt$Date, decreasing=FALSE), ]\n",
    "dt2 <- dt[-c(1:35), ]"
   ]
  },
  {
   "cell_type": "code",
   "execution_count": 7,
   "metadata": {},
   "outputs": [
    {
     "data": {
      "text/html": [
       "<table>\n",
       "<thead><tr><th></th><th scope=col>id</th><th scope=col>Date</th><th scope=col>mood</th><th scope=col>arousal</th><th scope=col>valence</th><th scope=col>activity</th><th scope=col>screentime..s.</th><th scope=col>other..s.</th><th scope=col>travel..s.</th><th scope=col>weather..s.</th><th scope=col>buu</th><th scope=col>coso</th></tr></thead>\n",
       "<tbody>\n",
       "\t<tr><th scope=row>48</th><td>AS14.02   </td><td>2014-03-16</td><td>6.333333  </td><td> 0.0000000</td><td>0.00      </td><td>NA        </td><td>4902.627  </td><td>408.106   </td><td>NA        </td><td>NA        </td><td>2437.046  </td><td>3333.420  </td></tr>\n",
       "\t<tr><th scope=row>138</th><td>AS14.05   </td><td>2014-03-16</td><td>6.333333  </td><td>-0.6666667</td><td>0.00      </td><td>NA        </td><td>5548.049  </td><td> 88.685   </td><td>NA        </td><td>NA        </td><td> 473.490  </td><td>4189.964  </td></tr>\n",
       "\t<tr><th scope=row>293</th><td>AS14.08   </td><td>2014-03-16</td><td>7.000000  </td><td>-1.2500000</td><td>1.25      </td><td>NA        </td><td>2440.103  </td><td> 56.275   </td><td>NA        </td><td>NA        </td><td> 160.349  </td><td>2222.867  </td></tr>\n",
       "</tbody>\n",
       "</table>\n"
      ],
      "text/latex": [
       "\\begin{tabular}{r|llllllllllll}\n",
       "  & id & Date & mood & arousal & valence & activity & screentime..s. & other..s. & travel..s. & weather..s. & buu & coso\\\\\n",
       "\\hline\n",
       "\t48 & AS14.02    & 2014-03-16 & 6.333333   &  0.0000000 & 0.00       & NA         & 4902.627   & 408.106    & NA         & NA         & 2437.046   & 3333.420  \\\\\n",
       "\t138 & AS14.05    & 2014-03-16 & 6.333333   & -0.6666667 & 0.00       & NA         & 5548.049   &  88.685    & NA         & NA         &  473.490   & 4189.964  \\\\\n",
       "\t293 & AS14.08    & 2014-03-16 & 7.000000   & -1.2500000 & 1.25       & NA         & 2440.103   &  56.275    & NA         & NA         &  160.349   & 2222.867  \\\\\n",
       "\\end{tabular}\n"
      ],
      "text/markdown": [
       "\n",
       "| <!--/--> | id | Date | mood | arousal | valence | activity | screentime..s. | other..s. | travel..s. | weather..s. | buu | coso | \n",
       "|---|---|---|\n",
       "| 48 | AS14.02    | 2014-03-16 | 6.333333   |  0.0000000 | 0.00       | NA         | 4902.627   | 408.106    | NA         | NA         | 2437.046   | 3333.420   | \n",
       "| 138 | AS14.05    | 2014-03-16 | 6.333333   | -0.6666667 | 0.00       | NA         | 5548.049   |  88.685    | NA         | NA         |  473.490   | 4189.964   | \n",
       "| 293 | AS14.08    | 2014-03-16 | 7.000000   | -1.2500000 | 1.25       | NA         | 2440.103   |  56.275    | NA         | NA         |  160.349   | 2222.867   | \n",
       "\n",
       "\n"
      ],
      "text/plain": [
       "    id      Date       mood     arousal    valence activity screentime..s.\n",
       "48  AS14.02 2014-03-16 6.333333  0.0000000 0.00    NA       4902.627      \n",
       "138 AS14.05 2014-03-16 6.333333 -0.6666667 0.00    NA       5548.049      \n",
       "293 AS14.08 2014-03-16 7.000000 -1.2500000 1.25    NA       2440.103      \n",
       "    other..s. travel..s. weather..s. buu      coso    \n",
       "48  408.106   NA         NA          2437.046 3333.420\n",
       "138  88.685   NA         NA           473.490 4189.964\n",
       "293  56.275   NA         NA           160.349 2222.867"
      ]
     },
     "metadata": {},
     "output_type": "display_data"
    }
   ],
   "source": [
    "head(dt2, 3)"
   ]
  },
  {
   "cell_type": "code",
   "execution_count": null,
   "metadata": {
    "collapsed": true
   },
   "outputs": [],
   "source": [
    "## list rows of data that have missing values \n",
    "dt2[!complete.cases(dt2),]"
   ]
  },
  {
   "cell_type": "code",
   "execution_count": 51,
   "metadata": {},
   "outputs": [
    {
     "ename": "ERROR",
     "evalue": "Error in `[<-.data.frame`(`*tmp*`, is.na(dt2[, 6]), value = 0.119122540322463): duplicate subscripts for columns\n",
     "output_type": "error",
     "traceback": [
      "Error in `[<-.data.frame`(`*tmp*`, is.na(dt2[, 6]), value = 0.119122540322463): duplicate subscripts for columns\nTraceback:\n",
      "1. `[<-`(`*tmp*`, is.na(dt2[, 6]), value = 0.119122540322463)",
      "2. `[<-.data.frame`(`*tmp*`, is.na(dt2[, 6]), value = 0.119122540322463)",
      "3. stop(\"duplicate subscripts for columns\")"
     ]
    }
   ],
   "source": [
    "dt2[is.na(dt2[,6])] <- mean(dt2[,6], na.rm=TRUE)"
   ]
  },
  {
   "cell_type": "code",
   "execution_count": 33,
   "metadata": {},
   "outputs": [],
   "source": [
    "act[is.na(act)] <- mean(act, na.rm=TRUE)"
   ]
  },
  {
   "cell_type": "code",
   "execution_count": 29,
   "metadata": {},
   "outputs": [],
   "source": [
    "screen <- dt2[7]\n",
    "scr <- screen[,1]"
   ]
  },
  {
   "cell_type": "code",
   "execution_count": 30,
   "metadata": {
    "collapsed": true
   },
   "outputs": [],
   "source": [
    "scr[is.na(scr)] <- mean(scr, na.rm=TRUE)"
   ]
  },
  {
   "cell_type": "code",
   "execution_count": 34,
   "metadata": {},
   "outputs": [],
   "source": [
    "others  <- dt2[8]\n",
    "oth <- others[,1]"
   ]
  },
  {
   "cell_type": "code",
   "execution_count": 35,
   "metadata": {
    "collapsed": true
   },
   "outputs": [],
   "source": [
    "oth[is.na(oth)] <- mean(oth, na.rm=TRUE)"
   ]
  },
  {
   "cell_type": "code",
   "execution_count": 37,
   "metadata": {},
   "outputs": [],
   "source": [
    "travel  <- dt2[9]\n",
    "trv <- travel[,1]"
   ]
  },
  {
   "cell_type": "code",
   "execution_count": 38,
   "metadata": {
    "collapsed": true
   },
   "outputs": [],
   "source": [
    "trv[is.na(trv)] <- mean(trv, na.rm=TRUE)"
   ]
  },
  {
   "cell_type": "code",
   "execution_count": 40,
   "metadata": {},
   "outputs": [],
   "source": [
    "weather  <- dt2[10]\n",
    "wth <- weather[,1]"
   ]
  },
  {
   "cell_type": "code",
   "execution_count": 41,
   "metadata": {
    "collapsed": true
   },
   "outputs": [],
   "source": [
    "wth[is.na(wth)] <- mean(wth, na.rm=TRUE)"
   ]
  },
  {
   "cell_type": "code",
   "execution_count": 43,
   "metadata": {},
   "outputs": [],
   "source": [
    "built <- dt2[11]\n",
    "buu <- built[,1]"
   ]
  },
  {
   "cell_type": "code",
   "execution_count": 44,
   "metadata": {
    "collapsed": true
   },
   "outputs": [],
   "source": [
    "buu[is.na(buu)] <- mean(buu, na.rm=TRUE)"
   ]
  },
  {
   "cell_type": "code",
   "execution_count": 45,
   "metadata": {
    "collapsed": true
   },
   "outputs": [],
   "source": [
    "coso <- dt2[12]\n",
    "cos <- coso[,1]"
   ]
  },
  {
   "cell_type": "code",
   "execution_count": 46,
   "metadata": {
    "collapsed": true
   },
   "outputs": [],
   "source": [
    "cos[is.na(cos)] <- mean(cos, na.rm=TRUE)"
   ]
  },
  {
   "cell_type": "code",
   "execution_count": 47,
   "metadata": {},
   "outputs": [
    {
     "data": {
      "text/html": [
       "<table>\n",
       "<thead><tr><th></th><th scope=col>id</th><th scope=col>Date</th><th scope=col>mood</th><th scope=col>arousal</th><th scope=col>valence</th><th scope=col>activity</th><th scope=col>screentime..s.</th><th scope=col>other..s.</th><th scope=col>travel..s.</th><th scope=col>weather..s.</th><th scope=col>buu</th><th scope=col>coso</th></tr></thead>\n",
       "<tbody>\n",
       "\t<tr><th scope=row>48</th><td>AS14.02     </td><td>2014-03-16  </td><td>6.333333    </td><td> 0.0000000  </td><td> 0.0000000  </td><td>         NA </td><td>4.902627e+03</td><td> 408.106    </td><td>     NA     </td><td>NA          </td><td>2437.046    </td><td> 3333.420   </td></tr>\n",
       "\t<tr><th scope=row>138</th><td>AS14.05     </td><td>2014-03-16  </td><td>6.333333    </td><td>-0.6666667  </td><td> 0.0000000  </td><td>         NA </td><td>5.548049e+03</td><td>  88.685    </td><td>     NA     </td><td>NA          </td><td> 473.490    </td><td> 4189.964   </td></tr>\n",
       "\t<tr><th scope=row>293</th><td>AS14.08     </td><td>2014-03-16  </td><td>7.000000    </td><td>-1.2500000  </td><td> 1.2500000  </td><td>         NA </td><td>2.440103e+03</td><td>  56.275    </td><td>     NA     </td><td>NA          </td><td> 160.349    </td><td> 2222.867   </td></tr>\n",
       "\t<tr><th scope=row>434</th><td>AS14.13     </td><td>2014-03-16  </td><td>6.400000    </td><td>-1.0000000  </td><td> 0.2000000  </td><td>         NA </td><td>4.920904e+03</td><td>2366.203    </td><td>     NA     </td><td>NA          </td><td> 270.654    </td><td> 1220.631   </td></tr>\n",
       "\t<tr><th scope=row>530</th><td>AS14.15     </td><td>2014-03-16  </td><td>6.166667    </td><td>-0.6666667  </td><td> 0.3333333  </td><td>         NA </td><td>          NA</td><td>      NA    </td><td>     NA     </td><td>NA          </td><td>      NA    </td><td>       NA   </td></tr>\n",
       "\t<tr><th scope=row>586</th><td>AS14.16     </td><td>2014-03-16  </td><td>6.600000    </td><td>-0.8000000  </td><td> 0.5000000  </td><td>         NA </td><td>3.646920e+02</td><td>  38.152    </td><td>     NA     </td><td>NA          </td><td> 185.558    </td><td>  120.445   </td></tr>\n",
       "\t<tr><th scope=row>49</th><td>AS14.02     </td><td>2014-03-17  </td><td>6.750000    </td><td> 0.5000000  </td><td> 0.5000000  </td><td>0.168068415 </td><td>1.015977e+04</td><td> 103.699    </td><td>     NA     </td><td>NA          </td><td>1229.347    </td><td> 4621.144   </td></tr>\n",
       "\t<tr><th scope=row>139</th><td>AS14.05     </td><td>2014-03-17  </td><td>6.000000    </td><td>-0.4000000  </td><td> 0.4000000  </td><td>0.083370521 </td><td>5.613824e+03</td><td> 148.272    </td><td>     NA     </td><td>NA          </td><td> 865.993    </td><td> 1774.029   </td></tr>\n",
       "\t<tr><th scope=row>294</th><td>AS14.08     </td><td>2014-03-17  </td><td>5.400000    </td><td> 0.0000000  </td><td> 0.2000000  </td><td>0.005555556 </td><td>1.418689e+03</td><td>  68.395    </td><td>     NA     </td><td>NA          </td><td>  56.584    </td><td>12736.950   </td></tr>\n",
       "\t<tr><th scope=row>435</th><td>AS14.13     </td><td>2014-03-17  </td><td>6.600000    </td><td> 0.0000000  </td><td> 0.8000000  </td><td>         NA </td><td>3.146816e+03</td><td> 701.473    </td><td>236.148     </td><td>NA          </td><td>1039.648    </td><td> 1441.641   </td></tr>\n",
       "\t<tr><th scope=row>531</th><td>AS14.15     </td><td>2014-03-17  </td><td>6.400000    </td><td> 0.0000000  </td><td> 0.0000000  </td><td>0.000000000 </td><td>6.949999e-01</td><td>      NA    </td><td>     NA     </td><td>NA          </td><td>   6.644    </td><td>       NA   </td></tr>\n",
       "\t<tr><th scope=row>587</th><td>AS14.16     </td><td>2014-03-17  </td><td>7.200000    </td><td>-0.6000000  </td><td> 0.6000000  </td><td>0.060714286 </td><td>7.143030e+02</td><td>  15.073    </td><td>     NA     </td><td>NA          </td><td>  47.283    </td><td>  650.980   </td></tr>\n",
       "\t<tr><th scope=row>50</th><td>AS14.02     </td><td>2014-03-18  </td><td>8.200000    </td><td> 0.6000000  </td><td> 0.8000000  </td><td>0.219484384 </td><td>4.512471e+03</td><td>  88.722    </td><td>     NA     </td><td>NA          </td><td>2604.521    </td><td> 4145.445   </td></tr>\n",
       "\t<tr><th scope=row>140</th><td>AS14.05     </td><td>2014-03-18  </td><td>7.500000    </td><td> 0.2500000  </td><td> 1.0000000  </td><td>0.113195906 </td><td>7.177026e+03</td><td>  67.334    </td><td>     NA     </td><td>NA          </td><td> 508.979    </td><td> 4411.521   </td></tr>\n",
       "\t<tr><th scope=row>295</th><td>AS14.08     </td><td>2014-03-18  </td><td>6.400000    </td><td>-0.2000000  </td><td> 0.6000000  </td><td>0.028491362 </td><td>1.318170e+03</td><td>  47.137    </td><td>     NA     </td><td>NA          </td><td>   5.920    </td><td> 1120.333   </td></tr>\n",
       "\t<tr><th scope=row>436</th><td>AS14.13     </td><td>2014-03-18  </td><td>7.000000    </td><td>-0.2000000  </td><td> 0.8000000  </td><td>         NA </td><td>2.748714e+03</td><td> 981.155    </td><td>     NA     </td><td>NA          </td><td> 556.450    </td><td> 6298.983   </td></tr>\n",
       "\t<tr><th scope=row>532</th><td>AS14.15     </td><td>2014-03-18  </td><td>7.200000    </td><td> 0.4000000  </td><td> 1.2000000  </td><td>0.118737145 </td><td>3.214629e+03</td><td>  54.256    </td><td> 94.552     </td><td>NA          </td><td>1366.137    </td><td> 1780.747   </td></tr>\n",
       "\t<tr><th scope=row>588</th><td>AS14.16     </td><td>2014-03-18  </td><td>6.600000    </td><td> 0.4000000  </td><td> 0.6000000  </td><td>0.053911910 </td><td>7.863110e+02</td><td>  11.054    </td><td>     NA     </td><td>NA          </td><td> 190.195    </td><td>  464.504   </td></tr>\n",
       "\t<tr><th scope=row>51</th><td>AS14.02     </td><td>2014-03-19  </td><td>6.800000    </td><td> 0.4000000  </td><td> 0.4000000  </td><td>0.315631757 </td><td>8.182757e+03</td><td> 105.536    </td><td>567.165     </td><td>NA          </td><td>1554.558    </td><td> 2644.804   </td></tr>\n",
       "\t<tr><th scope=row>141</th><td>AS14.05     </td><td>2014-03-19  </td><td>6.750000    </td><td> 1.0000000  </td><td> 0.7500000  </td><td>0.133691265 </td><td>6.095810e+03</td><td> 122.397    </td><td>     NA     </td><td>NA          </td><td> 274.290    </td><td> 4320.741   </td></tr>\n",
       "\t<tr><th scope=row>234</th><td>AS14.07     </td><td>2014-03-19  </td><td>6.800000    </td><td>-1.0000000  </td><td> 1.4000000  </td><td>         NA </td><td>1.152684e+04</td><td>  90.872    </td><td>145.957     </td><td>NA          </td><td>2059.800    </td><td> 7420.665   </td></tr>\n",
       "\t<tr><th scope=row>296</th><td>AS14.08     </td><td>2014-03-19  </td><td>7.000000    </td><td>-0.2000000  </td><td> 1.0000000  </td><td>0.063017163 </td><td>1.827460e+03</td><td>  64.362    </td><td>     NA     </td><td>NA          </td><td>  68.033    </td><td> 1666.947   </td></tr>\n",
       "\t<tr><th scope=row>437</th><td>AS14.13     </td><td>2014-03-19  </td><td>7.800000    </td><td>-0.2000000  </td><td> 1.2000000  </td><td>         NA </td><td>1.516440e+04</td><td>4203.599    </td><td>     NA     </td><td>NA          </td><td> 790.380    </td><td> 9838.858   </td></tr>\n",
       "\t<tr><th scope=row>533</th><td>AS14.15     </td><td>2014-03-19  </td><td>7.400000    </td><td> 0.2000000  </td><td> 1.2000000  </td><td>         NA </td><td>          NA</td><td>      NA    </td><td>     NA     </td><td>NA          </td><td>      NA    </td><td>       NA   </td></tr>\n",
       "\t<tr><th scope=row>589</th><td>AS14.16     </td><td>2014-03-19  </td><td>6.400000    </td><td> 0.0000000  </td><td> 0.6000000  </td><td>0.005627706 </td><td>2.635700e+01</td><td>  22.176    </td><td>     NA     </td><td>NA          </td><td>  32.349    </td><td>       NA   </td></tr>\n",
       "\t<tr><th scope=row>52</th><td>AS14.02     </td><td>2014-03-20  </td><td>7.250000    </td><td>-0.5000000  </td><td> 0.7500000  </td><td>0.239024960 </td><td>4.360334e+03</td><td>  86.857    </td><td>     NA     </td><td>NA          </td><td>1777.977    </td><td> 2285.969   </td></tr>\n",
       "\t<tr><th scope=row>142</th><td>AS14.05     </td><td>2014-03-20  </td><td>7.200000    </td><td> 1.0000000  </td><td> 0.8000000  </td><td>0.118456799 </td><td>4.862866e+03</td><td> 157.196    </td><td>     NA     </td><td>NA          </td><td> 122.208    </td><td> 4486.863   </td></tr>\n",
       "\t<tr><th scope=row>235</th><td>AS14.07     </td><td>2014-03-20  </td><td>5.250000    </td><td>-0.7500000  </td><td>-0.2500000  </td><td>         NA </td><td>1.073889e+04</td><td>  87.433    </td><td>     NA     </td><td>NA          </td><td>1493.619    </td><td> 7979.570   </td></tr>\n",
       "\t<tr><th scope=row>297</th><td>AS14.08     </td><td>2014-03-20  </td><td>6.400000    </td><td>-0.2000000  </td><td> 0.8000000  </td><td>0.057523878 </td><td>1.096550e+03</td><td>  48.010    </td><td>     NA     </td><td>NA          </td><td>4862.881    </td><td>  948.766   </td></tr>\n",
       "\t<tr><th scope=row>438</th><td>AS14.13     </td><td>2014-03-20  </td><td>6.400000    </td><td> 0.8000000  </td><td> 0.2000000  </td><td>0.287517396 </td><td>8.615405e+03</td><td> 626.924    </td><td>     NA     </td><td>NA          </td><td> 462.368    </td><td> 8153.821   </td></tr>\n",
       "\t<tr><th scope=row>⋮</th><td>⋮</td><td>⋮</td><td>⋮</td><td>⋮</td><td>⋮</td><td>⋮</td><td>⋮</td><td>⋮</td><td>⋮</td><td>⋮</td><td>⋮</td><td>⋮</td></tr>\n",
       "\t<tr><th scope=row>863</th><td>AS14.24    </td><td>2014-05-24 </td><td>7.200000   </td><td> 0.0000000 </td><td> 0.8000000 </td><td>0.011447603</td><td> 1551.697  </td><td> 68.185    </td><td>      NA   </td><td>     NA    </td><td> 322.092   </td><td> 896.684   </td></tr>\n",
       "\t<tr><th scope=row>970</th><td>AS14.26    </td><td>2014-05-24 </td><td>7.600000   </td><td>-0.2000000 </td><td> 1.0000000 </td><td>0.138810683</td><td> 7953.688  </td><td>623.762    </td><td> 162.437   </td><td>     NA    </td><td>1905.364   </td><td>5561.456   </td></tr>\n",
       "\t<tr><th scope=row>1261</th><td>AS14.33    </td><td>2014-05-24 </td><td>6.400000   </td><td>-0.7500000 </td><td> 0.2500000 </td><td>0.014286100</td><td>10875.109  </td><td> 78.431    </td><td>      NA   </td><td>     NA    </td><td> 947.927   </td><td>7966.231   </td></tr>\n",
       "\t<tr><th scope=row>864</th><td>AS14.24    </td><td>2014-05-25 </td><td>7.000000   </td><td> 0.2500000 </td><td> 1.0000000 </td><td>0.045962806</td><td> 6859.747  </td><td> 48.402    </td><td>      NA   </td><td>     NA    </td><td>1230.517   </td><td> 894.885   </td></tr>\n",
       "\t<tr><th scope=row>971</th><td>AS14.26    </td><td>2014-05-25 </td><td>8.000000   </td><td>-0.5000000 </td><td> 1.0000000 </td><td>0.129498162</td><td> 8241.524  </td><td> 39.424    </td><td>  72.582   </td><td>     NA    </td><td>3005.024   </td><td>5127.741   </td></tr>\n",
       "\t<tr><th scope=row>1262</th><td>AS14.33    </td><td>2014-05-25 </td><td>6.250000   </td><td>-0.7500000 </td><td> 0.3333333 </td><td>0.161470192</td><td> 7342.485  </td><td> 42.362    </td><td>      NA   </td><td>     NA    </td><td>2784.641   </td><td>4436.015   </td></tr>\n",
       "\t<tr><th scope=row>865</th><td>AS14.24    </td><td>2014-05-26 </td><td>7.000000   </td><td> 0.8000000 </td><td> 1.0000000 </td><td>0.002735434</td><td> 2361.538  </td><td> 61.729    </td><td>      NA   </td><td>     NA    </td><td> 565.979   </td><td>1674.314   </td></tr>\n",
       "\t<tr><th scope=row>972</th><td>AS14.26    </td><td>2014-05-26 </td><td>7.200000   </td><td> 0.2000000 </td><td> 1.0000000 </td><td>0.054653893</td><td> 7007.026  </td><td> 55.459    </td><td>      NA   </td><td> 98.808    </td><td>1379.550   </td><td>5211.927   </td></tr>\n",
       "\t<tr><th scope=row>1263</th><td>AS14.33    </td><td>2014-05-26 </td><td>5.400000   </td><td>-0.4000000 </td><td> 0.0000000 </td><td>0.115201484</td><td>18925.188  </td><td>235.837    </td><td>      NA   </td><td>     NA    </td><td>1048.739   </td><td>6676.801   </td></tr>\n",
       "\t<tr><th scope=row>866</th><td>AS14.24    </td><td>2014-05-27 </td><td>6.200000   </td><td> 0.5000000 </td><td> 0.6666667 </td><td>0.064399448</td><td> 3875.860  </td><td> 55.154    </td><td>      NA   </td><td>     NA    </td><td>1172.075   </td><td>1663.007   </td></tr>\n",
       "\t<tr><th scope=row>973</th><td>AS14.26    </td><td>2014-05-27 </td><td>5.800000   </td><td> 0.0000000 </td><td>-0.2000000 </td><td>0.027135702</td><td> 8511.273  </td><td> 33.330    </td><td>      NA   </td><td>131.164    </td><td>3781.427   </td><td>6948.505   </td></tr>\n",
       "\t<tr><th scope=row>1264</th><td>AS14.33    </td><td>2014-05-27 </td><td>6.200000   </td><td>-0.6000000 </td><td> 0.4000000 </td><td>0.012704237</td><td> 4089.879  </td><td>142.686    </td><td>      NA   </td><td>     NA    </td><td> 782.564   </td><td>4088.767   </td></tr>\n",
       "\t<tr><th scope=row>867</th><td>AS14.24    </td><td>2014-05-28 </td><td>6.600000   </td><td> 0.0000000 </td><td> 0.5000000 </td><td>0.098223308</td><td>10057.185  </td><td> 66.320    </td><td> 544.488   </td><td>     NA    </td><td>2055.828   </td><td>2407.829   </td></tr>\n",
       "\t<tr><th scope=row>1265</th><td>AS14.33    </td><td>2014-05-28 </td><td>8.200000   </td><td> 0.0000000 </td><td> 1.2000000 </td><td>0.103301170</td><td>14320.868  </td><td>529.946    </td><td>      NA   </td><td>     NA    </td><td>2581.712   </td><td>7297.626   </td></tr>\n",
       "\t<tr><th scope=row>868</th><td>AS14.24    </td><td>2014-05-29 </td><td>7.000000   </td><td>-0.4000000 </td><td> 0.8000000 </td><td>0.018571817</td><td> 4196.083  </td><td> 50.695    </td><td>      NA   </td><td>     NA    </td><td>2042.371   </td><td>3119.232   </td></tr>\n",
       "\t<tr><th scope=row>975</th><td>AS14.26    </td><td>2014-05-29 </td><td>7.400000   </td><td> 0.0000000 </td><td> 0.8000000 </td><td>0.028571429</td><td>  194.841  </td><td>  7.049    </td><td>      NA   </td><td>     NA    </td><td>  21.747   </td><td> 150.448   </td></tr>\n",
       "\t<tr><th scope=row>1266</th><td>AS14.33    </td><td>2014-05-29 </td><td>7.000000   </td><td>-1.3333333 </td><td> 1.0000000 </td><td>0.169354454</td><td> 3569.341  </td><td> 29.202    </td><td>   0.939   </td><td>     NA    </td><td> 403.233   </td><td>2225.027   </td></tr>\n",
       "\t<tr><th scope=row>869</th><td>AS14.24    </td><td>2014-05-30 </td><td>7.400000   </td><td> 0.2000000 </td><td> 1.2000000 </td><td>0.035684248</td><td> 5724.525  </td><td> 45.191    </td><td>      NA   </td><td>     NA    </td><td> 812.155   </td><td>3990.802   </td></tr>\n",
       "\t<tr><th scope=row>976</th><td>AS14.26    </td><td>2014-05-30 </td><td>6.400000   </td><td>-0.4000000 </td><td> 0.0000000 </td><td>         NA</td><td>       NA  </td><td>     NA    </td><td>      NA   </td><td>     NA    </td><td>      NA   </td><td>      NA   </td></tr>\n",
       "\t<tr><th scope=row>1267</th><td>AS14.33    </td><td>2014-05-30 </td><td>6.800000   </td><td>-0.8000000 </td><td>-0.4000000 </td><td>0.192901189</td><td> 9497.647  </td><td> 52.610    </td><td>1052.648   </td><td>     NA    </td><td>3284.927   </td><td>4837.251   </td></tr>\n",
       "\t<tr><th scope=row>870</th><td>AS14.24    </td><td>2014-05-31 </td><td>7.000000   </td><td> 1.0000000 </td><td> 1.0000000 </td><td>0.212519562</td><td> 1705.078  </td><td>  7.019    </td><td>      NA   </td><td>     NA    </td><td>1063.115   </td><td> 624.496   </td></tr>\n",
       "\t<tr><th scope=row>1268</th><td>AS14.33    </td><td>2014-05-31 </td><td>7.000000   </td><td>-2.0000000 </td><td> 1.0000000 </td><td>         NA</td><td>       NA  </td><td>     NA    </td><td>      NA   </td><td>     NA    </td><td>      NA   </td><td>      NA   </td></tr>\n",
       "\t<tr><th scope=row>871</th><td>AS14.24    </td><td>2014-06-01 </td><td>6.833333   </td><td>-1.0000000 </td><td> 0.6666667 </td><td>0.047362752</td><td> 5012.921  </td><td> 81.069    </td><td>      NA   </td><td>     NA    </td><td>1593.290   </td><td>3069.282   </td></tr>\n",
       "\t<tr><th scope=row>872</th><td>AS14.24    </td><td>2014-06-02 </td><td>6.750000   </td><td> 0.3333333 </td><td> 1.0000000 </td><td>0.039047739</td><td> 4468.589  </td><td> 22.127    </td><td>      NA   </td><td>     NA    </td><td> 979.919   </td><td>3269.855   </td></tr>\n",
       "\t<tr><th scope=row>873</th><td>AS14.24    </td><td>2014-06-03 </td><td>7.800000   </td><td> 0.4000000 </td><td> 1.0000000 </td><td>0.091476943</td><td> 6519.176  </td><td> 38.605    </td><td>      NA   </td><td>     NA    </td><td>1591.879   </td><td>4011.863   </td></tr>\n",
       "\t<tr><th scope=row>874</th><td>AS14.24    </td><td>2014-06-04 </td><td>7.000000   </td><td> 0.5000000 </td><td> 1.0000000 </td><td>0.046384855</td><td> 5223.862  </td><td> 38.774    </td><td>      NA   </td><td>     NA    </td><td> 704.660   </td><td>4527.961   </td></tr>\n",
       "\t<tr><th scope=row>875</th><td>AS14.24    </td><td>2014-06-05 </td><td>7.000000   </td><td> 0.0000000 </td><td> 1.0000000 </td><td>0.152342722</td><td> 2371.589  </td><td> 47.360    </td><td> 225.737   </td><td>     NA    </td><td>1749.277   </td><td>1130.785   </td></tr>\n",
       "\t<tr><th scope=row>876</th><td>AS14.24    </td><td>2014-06-06 </td><td>7.500000   </td><td> 0.5000000 </td><td> 1.0000000 </td><td>0.189475975</td><td> 2733.332  </td><td> 36.414    </td><td>      NA   </td><td>     NA    </td><td> 947.970   </td><td>1710.924   </td></tr>\n",
       "\t<tr><th scope=row>877</th><td>AS14.24    </td><td>2014-06-07 </td><td>8.000000   </td><td>-1.0000000 </td><td>        NA </td><td>0.081893238</td><td> 5530.378  </td><td>  6.214    </td><td>      NA   </td><td>     NA    </td><td>5027.498   </td><td> 842.815   </td></tr>\n",
       "\t<tr><th scope=row>878</th><td>AS14.24    </td><td>2014-06-08 </td><td>6.500000   </td><td>-1.5000000 </td><td> 1.0000000 </td><td>0.079510180</td><td> 1131.198  </td><td> 18.069    </td><td>      NA   </td><td>     NA    </td><td> 351.389   </td><td> 566.275   </td></tr>\n",
       "</tbody>\n",
       "</table>\n"
      ],
      "text/latex": [
       "\\begin{tabular}{r|llllllllllll}\n",
       "  & id & Date & mood & arousal & valence & activity & screentime..s. & other..s. & travel..s. & weather..s. & buu & coso\\\\\n",
       "\\hline\n",
       "\t48 & AS14.02      & 2014-03-16   & 6.333333     &  0.0000000   &  0.0000000   &          NA  & 4.902627e+03 &  408.106     &      NA      & NA           & 2437.046     &  3333.420   \\\\\n",
       "\t138 & AS14.05      & 2014-03-16   & 6.333333     & -0.6666667   &  0.0000000   &          NA  & 5.548049e+03 &   88.685     &      NA      & NA           &  473.490     &  4189.964   \\\\\n",
       "\t293 & AS14.08      & 2014-03-16   & 7.000000     & -1.2500000   &  1.2500000   &          NA  & 2.440103e+03 &   56.275     &      NA      & NA           &  160.349     &  2222.867   \\\\\n",
       "\t434 & AS14.13      & 2014-03-16   & 6.400000     & -1.0000000   &  0.2000000   &          NA  & 4.920904e+03 & 2366.203     &      NA      & NA           &  270.654     &  1220.631   \\\\\n",
       "\t530 & AS14.15      & 2014-03-16   & 6.166667     & -0.6666667   &  0.3333333   &          NA  &           NA &       NA     &      NA      & NA           &       NA     &        NA   \\\\\n",
       "\t586 & AS14.16      & 2014-03-16   & 6.600000     & -0.8000000   &  0.5000000   &          NA  & 3.646920e+02 &   38.152     &      NA      & NA           &  185.558     &   120.445   \\\\\n",
       "\t49 & AS14.02      & 2014-03-17   & 6.750000     &  0.5000000   &  0.5000000   & 0.168068415  & 1.015977e+04 &  103.699     &      NA      & NA           & 1229.347     &  4621.144   \\\\\n",
       "\t139 & AS14.05      & 2014-03-17   & 6.000000     & -0.4000000   &  0.4000000   & 0.083370521  & 5.613824e+03 &  148.272     &      NA      & NA           &  865.993     &  1774.029   \\\\\n",
       "\t294 & AS14.08      & 2014-03-17   & 5.400000     &  0.0000000   &  0.2000000   & 0.005555556  & 1.418689e+03 &   68.395     &      NA      & NA           &   56.584     & 12736.950   \\\\\n",
       "\t435 & AS14.13      & 2014-03-17   & 6.600000     &  0.0000000   &  0.8000000   &          NA  & 3.146816e+03 &  701.473     & 236.148      & NA           & 1039.648     &  1441.641   \\\\\n",
       "\t531 & AS14.15      & 2014-03-17   & 6.400000     &  0.0000000   &  0.0000000   & 0.000000000  & 6.949999e-01 &       NA     &      NA      & NA           &    6.644     &        NA   \\\\\n",
       "\t587 & AS14.16      & 2014-03-17   & 7.200000     & -0.6000000   &  0.6000000   & 0.060714286  & 7.143030e+02 &   15.073     &      NA      & NA           &   47.283     &   650.980   \\\\\n",
       "\t50 & AS14.02      & 2014-03-18   & 8.200000     &  0.6000000   &  0.8000000   & 0.219484384  & 4.512471e+03 &   88.722     &      NA      & NA           & 2604.521     &  4145.445   \\\\\n",
       "\t140 & AS14.05      & 2014-03-18   & 7.500000     &  0.2500000   &  1.0000000   & 0.113195906  & 7.177026e+03 &   67.334     &      NA      & NA           &  508.979     &  4411.521   \\\\\n",
       "\t295 & AS14.08      & 2014-03-18   & 6.400000     & -0.2000000   &  0.6000000   & 0.028491362  & 1.318170e+03 &   47.137     &      NA      & NA           &    5.920     &  1120.333   \\\\\n",
       "\t436 & AS14.13      & 2014-03-18   & 7.000000     & -0.2000000   &  0.8000000   &          NA  & 2.748714e+03 &  981.155     &      NA      & NA           &  556.450     &  6298.983   \\\\\n",
       "\t532 & AS14.15      & 2014-03-18   & 7.200000     &  0.4000000   &  1.2000000   & 0.118737145  & 3.214629e+03 &   54.256     &  94.552      & NA           & 1366.137     &  1780.747   \\\\\n",
       "\t588 & AS14.16      & 2014-03-18   & 6.600000     &  0.4000000   &  0.6000000   & 0.053911910  & 7.863110e+02 &   11.054     &      NA      & NA           &  190.195     &   464.504   \\\\\n",
       "\t51 & AS14.02      & 2014-03-19   & 6.800000     &  0.4000000   &  0.4000000   & 0.315631757  & 8.182757e+03 &  105.536     & 567.165      & NA           & 1554.558     &  2644.804   \\\\\n",
       "\t141 & AS14.05      & 2014-03-19   & 6.750000     &  1.0000000   &  0.7500000   & 0.133691265  & 6.095810e+03 &  122.397     &      NA      & NA           &  274.290     &  4320.741   \\\\\n",
       "\t234 & AS14.07      & 2014-03-19   & 6.800000     & -1.0000000   &  1.4000000   &          NA  & 1.152684e+04 &   90.872     & 145.957      & NA           & 2059.800     &  7420.665   \\\\\n",
       "\t296 & AS14.08      & 2014-03-19   & 7.000000     & -0.2000000   &  1.0000000   & 0.063017163  & 1.827460e+03 &   64.362     &      NA      & NA           &   68.033     &  1666.947   \\\\\n",
       "\t437 & AS14.13      & 2014-03-19   & 7.800000     & -0.2000000   &  1.2000000   &          NA  & 1.516440e+04 & 4203.599     &      NA      & NA           &  790.380     &  9838.858   \\\\\n",
       "\t533 & AS14.15      & 2014-03-19   & 7.400000     &  0.2000000   &  1.2000000   &          NA  &           NA &       NA     &      NA      & NA           &       NA     &        NA   \\\\\n",
       "\t589 & AS14.16      & 2014-03-19   & 6.400000     &  0.0000000   &  0.6000000   & 0.005627706  & 2.635700e+01 &   22.176     &      NA      & NA           &   32.349     &        NA   \\\\\n",
       "\t52 & AS14.02      & 2014-03-20   & 7.250000     & -0.5000000   &  0.7500000   & 0.239024960  & 4.360334e+03 &   86.857     &      NA      & NA           & 1777.977     &  2285.969   \\\\\n",
       "\t142 & AS14.05      & 2014-03-20   & 7.200000     &  1.0000000   &  0.8000000   & 0.118456799  & 4.862866e+03 &  157.196     &      NA      & NA           &  122.208     &  4486.863   \\\\\n",
       "\t235 & AS14.07      & 2014-03-20   & 5.250000     & -0.7500000   & -0.2500000   &          NA  & 1.073889e+04 &   87.433     &      NA      & NA           & 1493.619     &  7979.570   \\\\\n",
       "\t297 & AS14.08      & 2014-03-20   & 6.400000     & -0.2000000   &  0.8000000   & 0.057523878  & 1.096550e+03 &   48.010     &      NA      & NA           & 4862.881     &   948.766   \\\\\n",
       "\t438 & AS14.13      & 2014-03-20   & 6.400000     &  0.8000000   &  0.2000000   & 0.287517396  & 8.615405e+03 &  626.924     &      NA      & NA           &  462.368     &  8153.821   \\\\\n",
       "\t⋮ & ⋮ & ⋮ & ⋮ & ⋮ & ⋮ & ⋮ & ⋮ & ⋮ & ⋮ & ⋮ & ⋮ & ⋮\\\\\n",
       "\t863 & AS14.24     & 2014-05-24  & 7.200000    &  0.0000000  &  0.8000000  & 0.011447603 &  1551.697   &  68.185     &       NA    &      NA     &  322.092    &  896.684   \\\\\n",
       "\t970 & AS14.26     & 2014-05-24  & 7.600000    & -0.2000000  &  1.0000000  & 0.138810683 &  7953.688   & 623.762     &  162.437    &      NA     & 1905.364    & 5561.456   \\\\\n",
       "\t1261 & AS14.33     & 2014-05-24  & 6.400000    & -0.7500000  &  0.2500000  & 0.014286100 & 10875.109   &  78.431     &       NA    &      NA     &  947.927    & 7966.231   \\\\\n",
       "\t864 & AS14.24     & 2014-05-25  & 7.000000    &  0.2500000  &  1.0000000  & 0.045962806 &  6859.747   &  48.402     &       NA    &      NA     & 1230.517    &  894.885   \\\\\n",
       "\t971 & AS14.26     & 2014-05-25  & 8.000000    & -0.5000000  &  1.0000000  & 0.129498162 &  8241.524   &  39.424     &   72.582    &      NA     & 3005.024    & 5127.741   \\\\\n",
       "\t1262 & AS14.33     & 2014-05-25  & 6.250000    & -0.7500000  &  0.3333333  & 0.161470192 &  7342.485   &  42.362     &       NA    &      NA     & 2784.641    & 4436.015   \\\\\n",
       "\t865 & AS14.24     & 2014-05-26  & 7.000000    &  0.8000000  &  1.0000000  & 0.002735434 &  2361.538   &  61.729     &       NA    &      NA     &  565.979    & 1674.314   \\\\\n",
       "\t972 & AS14.26     & 2014-05-26  & 7.200000    &  0.2000000  &  1.0000000  & 0.054653893 &  7007.026   &  55.459     &       NA    &  98.808     & 1379.550    & 5211.927   \\\\\n",
       "\t1263 & AS14.33     & 2014-05-26  & 5.400000    & -0.4000000  &  0.0000000  & 0.115201484 & 18925.188   & 235.837     &       NA    &      NA     & 1048.739    & 6676.801   \\\\\n",
       "\t866 & AS14.24     & 2014-05-27  & 6.200000    &  0.5000000  &  0.6666667  & 0.064399448 &  3875.860   &  55.154     &       NA    &      NA     & 1172.075    & 1663.007   \\\\\n",
       "\t973 & AS14.26     & 2014-05-27  & 5.800000    &  0.0000000  & -0.2000000  & 0.027135702 &  8511.273   &  33.330     &       NA    & 131.164     & 3781.427    & 6948.505   \\\\\n",
       "\t1264 & AS14.33     & 2014-05-27  & 6.200000    & -0.6000000  &  0.4000000  & 0.012704237 &  4089.879   & 142.686     &       NA    &      NA     &  782.564    & 4088.767   \\\\\n",
       "\t867 & AS14.24     & 2014-05-28  & 6.600000    &  0.0000000  &  0.5000000  & 0.098223308 & 10057.185   &  66.320     &  544.488    &      NA     & 2055.828    & 2407.829   \\\\\n",
       "\t1265 & AS14.33     & 2014-05-28  & 8.200000    &  0.0000000  &  1.2000000  & 0.103301170 & 14320.868   & 529.946     &       NA    &      NA     & 2581.712    & 7297.626   \\\\\n",
       "\t868 & AS14.24     & 2014-05-29  & 7.000000    & -0.4000000  &  0.8000000  & 0.018571817 &  4196.083   &  50.695     &       NA    &      NA     & 2042.371    & 3119.232   \\\\\n",
       "\t975 & AS14.26     & 2014-05-29  & 7.400000    &  0.0000000  &  0.8000000  & 0.028571429 &   194.841   &   7.049     &       NA    &      NA     &   21.747    &  150.448   \\\\\n",
       "\t1266 & AS14.33     & 2014-05-29  & 7.000000    & -1.3333333  &  1.0000000  & 0.169354454 &  3569.341   &  29.202     &    0.939    &      NA     &  403.233    & 2225.027   \\\\\n",
       "\t869 & AS14.24     & 2014-05-30  & 7.400000    &  0.2000000  &  1.2000000  & 0.035684248 &  5724.525   &  45.191     &       NA    &      NA     &  812.155    & 3990.802   \\\\\n",
       "\t976 & AS14.26     & 2014-05-30  & 6.400000    & -0.4000000  &  0.0000000  &          NA &        NA   &      NA     &       NA    &      NA     &       NA    &       NA   \\\\\n",
       "\t1267 & AS14.33     & 2014-05-30  & 6.800000    & -0.8000000  & -0.4000000  & 0.192901189 &  9497.647   &  52.610     & 1052.648    &      NA     & 3284.927    & 4837.251   \\\\\n",
       "\t870 & AS14.24     & 2014-05-31  & 7.000000    &  1.0000000  &  1.0000000  & 0.212519562 &  1705.078   &   7.019     &       NA    &      NA     & 1063.115    &  624.496   \\\\\n",
       "\t1268 & AS14.33     & 2014-05-31  & 7.000000    & -2.0000000  &  1.0000000  &          NA &        NA   &      NA     &       NA    &      NA     &       NA    &       NA   \\\\\n",
       "\t871 & AS14.24     & 2014-06-01  & 6.833333    & -1.0000000  &  0.6666667  & 0.047362752 &  5012.921   &  81.069     &       NA    &      NA     & 1593.290    & 3069.282   \\\\\n",
       "\t872 & AS14.24     & 2014-06-02  & 6.750000    &  0.3333333  &  1.0000000  & 0.039047739 &  4468.589   &  22.127     &       NA    &      NA     &  979.919    & 3269.855   \\\\\n",
       "\t873 & AS14.24     & 2014-06-03  & 7.800000    &  0.4000000  &  1.0000000  & 0.091476943 &  6519.176   &  38.605     &       NA    &      NA     & 1591.879    & 4011.863   \\\\\n",
       "\t874 & AS14.24     & 2014-06-04  & 7.000000    &  0.5000000  &  1.0000000  & 0.046384855 &  5223.862   &  38.774     &       NA    &      NA     &  704.660    & 4527.961   \\\\\n",
       "\t875 & AS14.24     & 2014-06-05  & 7.000000    &  0.0000000  &  1.0000000  & 0.152342722 &  2371.589   &  47.360     &  225.737    &      NA     & 1749.277    & 1130.785   \\\\\n",
       "\t876 & AS14.24     & 2014-06-06  & 7.500000    &  0.5000000  &  1.0000000  & 0.189475975 &  2733.332   &  36.414     &       NA    &      NA     &  947.970    & 1710.924   \\\\\n",
       "\t877 & AS14.24     & 2014-06-07  & 8.000000    & -1.0000000  &         NA  & 0.081893238 &  5530.378   &   6.214     &       NA    &      NA     & 5027.498    &  842.815   \\\\\n",
       "\t878 & AS14.24     & 2014-06-08  & 6.500000    & -1.5000000  &  1.0000000  & 0.079510180 &  1131.198   &  18.069     &       NA    &      NA     &  351.389    &  566.275   \\\\\n",
       "\\end{tabular}\n"
      ],
      "text/markdown": [
       "\n",
       "| <!--/--> | id | Date | mood | arousal | valence | activity | screentime..s. | other..s. | travel..s. | weather..s. | buu | coso | \n",
       "|---|---|---|---|---|---|---|---|---|---|---|---|---|---|---|---|---|---|---|---|---|---|---|---|---|---|---|---|---|---|---|---|---|---|---|---|---|---|---|---|---|---|---|---|---|---|---|---|---|---|---|---|---|---|---|---|---|---|---|---|---|\n",
       "| 48 | AS14.02      | 2014-03-16   | 6.333333     |  0.0000000   |  0.0000000   |          NA  | 4.902627e+03 |  408.106     |      NA      | NA           | 2437.046     |  3333.420    | \n",
       "| 138 | AS14.05      | 2014-03-16   | 6.333333     | -0.6666667   |  0.0000000   |          NA  | 5.548049e+03 |   88.685     |      NA      | NA           |  473.490     |  4189.964    | \n",
       "| 293 | AS14.08      | 2014-03-16   | 7.000000     | -1.2500000   |  1.2500000   |          NA  | 2.440103e+03 |   56.275     |      NA      | NA           |  160.349     |  2222.867    | \n",
       "| 434 | AS14.13      | 2014-03-16   | 6.400000     | -1.0000000   |  0.2000000   |          NA  | 4.920904e+03 | 2366.203     |      NA      | NA           |  270.654     |  1220.631    | \n",
       "| 530 | AS14.15      | 2014-03-16   | 6.166667     | -0.6666667   |  0.3333333   |          NA  |           NA |       NA     |      NA      | NA           |       NA     |        NA    | \n",
       "| 586 | AS14.16      | 2014-03-16   | 6.600000     | -0.8000000   |  0.5000000   |          NA  | 3.646920e+02 |   38.152     |      NA      | NA           |  185.558     |   120.445    | \n",
       "| 49 | AS14.02      | 2014-03-17   | 6.750000     |  0.5000000   |  0.5000000   | 0.168068415  | 1.015977e+04 |  103.699     |      NA      | NA           | 1229.347     |  4621.144    | \n",
       "| 139 | AS14.05      | 2014-03-17   | 6.000000     | -0.4000000   |  0.4000000   | 0.083370521  | 5.613824e+03 |  148.272     |      NA      | NA           |  865.993     |  1774.029    | \n",
       "| 294 | AS14.08      | 2014-03-17   | 5.400000     |  0.0000000   |  0.2000000   | 0.005555556  | 1.418689e+03 |   68.395     |      NA      | NA           |   56.584     | 12736.950    | \n",
       "| 435 | AS14.13      | 2014-03-17   | 6.600000     |  0.0000000   |  0.8000000   |          NA  | 3.146816e+03 |  701.473     | 236.148      | NA           | 1039.648     |  1441.641    | \n",
       "| 531 | AS14.15      | 2014-03-17   | 6.400000     |  0.0000000   |  0.0000000   | 0.000000000  | 6.949999e-01 |       NA     |      NA      | NA           |    6.644     |        NA    | \n",
       "| 587 | AS14.16      | 2014-03-17   | 7.200000     | -0.6000000   |  0.6000000   | 0.060714286  | 7.143030e+02 |   15.073     |      NA      | NA           |   47.283     |   650.980    | \n",
       "| 50 | AS14.02      | 2014-03-18   | 8.200000     |  0.6000000   |  0.8000000   | 0.219484384  | 4.512471e+03 |   88.722     |      NA      | NA           | 2604.521     |  4145.445    | \n",
       "| 140 | AS14.05      | 2014-03-18   | 7.500000     |  0.2500000   |  1.0000000   | 0.113195906  | 7.177026e+03 |   67.334     |      NA      | NA           |  508.979     |  4411.521    | \n",
       "| 295 | AS14.08      | 2014-03-18   | 6.400000     | -0.2000000   |  0.6000000   | 0.028491362  | 1.318170e+03 |   47.137     |      NA      | NA           |    5.920     |  1120.333    | \n",
       "| 436 | AS14.13      | 2014-03-18   | 7.000000     | -0.2000000   |  0.8000000   |          NA  | 2.748714e+03 |  981.155     |      NA      | NA           |  556.450     |  6298.983    | \n",
       "| 532 | AS14.15      | 2014-03-18   | 7.200000     |  0.4000000   |  1.2000000   | 0.118737145  | 3.214629e+03 |   54.256     |  94.552      | NA           | 1366.137     |  1780.747    | \n",
       "| 588 | AS14.16      | 2014-03-18   | 6.600000     |  0.4000000   |  0.6000000   | 0.053911910  | 7.863110e+02 |   11.054     |      NA      | NA           |  190.195     |   464.504    | \n",
       "| 51 | AS14.02      | 2014-03-19   | 6.800000     |  0.4000000   |  0.4000000   | 0.315631757  | 8.182757e+03 |  105.536     | 567.165      | NA           | 1554.558     |  2644.804    | \n",
       "| 141 | AS14.05      | 2014-03-19   | 6.750000     |  1.0000000   |  0.7500000   | 0.133691265  | 6.095810e+03 |  122.397     |      NA      | NA           |  274.290     |  4320.741    | \n",
       "| 234 | AS14.07      | 2014-03-19   | 6.800000     | -1.0000000   |  1.4000000   |          NA  | 1.152684e+04 |   90.872     | 145.957      | NA           | 2059.800     |  7420.665    | \n",
       "| 296 | AS14.08      | 2014-03-19   | 7.000000     | -0.2000000   |  1.0000000   | 0.063017163  | 1.827460e+03 |   64.362     |      NA      | NA           |   68.033     |  1666.947    | \n",
       "| 437 | AS14.13      | 2014-03-19   | 7.800000     | -0.2000000   |  1.2000000   |          NA  | 1.516440e+04 | 4203.599     |      NA      | NA           |  790.380     |  9838.858    | \n",
       "| 533 | AS14.15      | 2014-03-19   | 7.400000     |  0.2000000   |  1.2000000   |          NA  |           NA |       NA     |      NA      | NA           |       NA     |        NA    | \n",
       "| 589 | AS14.16      | 2014-03-19   | 6.400000     |  0.0000000   |  0.6000000   | 0.005627706  | 2.635700e+01 |   22.176     |      NA      | NA           |   32.349     |        NA    | \n",
       "| 52 | AS14.02      | 2014-03-20   | 7.250000     | -0.5000000   |  0.7500000   | 0.239024960  | 4.360334e+03 |   86.857     |      NA      | NA           | 1777.977     |  2285.969    | \n",
       "| 142 | AS14.05      | 2014-03-20   | 7.200000     |  1.0000000   |  0.8000000   | 0.118456799  | 4.862866e+03 |  157.196     |      NA      | NA           |  122.208     |  4486.863    | \n",
       "| 235 | AS14.07      | 2014-03-20   | 5.250000     | -0.7500000   | -0.2500000   |          NA  | 1.073889e+04 |   87.433     |      NA      | NA           | 1493.619     |  7979.570    | \n",
       "| 297 | AS14.08      | 2014-03-20   | 6.400000     | -0.2000000   |  0.8000000   | 0.057523878  | 1.096550e+03 |   48.010     |      NA      | NA           | 4862.881     |   948.766    | \n",
       "| 438 | AS14.13      | 2014-03-20   | 6.400000     |  0.8000000   |  0.2000000   | 0.287517396  | 8.615405e+03 |  626.924     |      NA      | NA           |  462.368     |  8153.821    | \n",
       "| ⋮ | ⋮ | ⋮ | ⋮ | ⋮ | ⋮ | ⋮ | ⋮ | ⋮ | ⋮ | ⋮ | ⋮ | ⋮ | \n",
       "| 863 | AS14.24     | 2014-05-24  | 7.200000    |  0.0000000  |  0.8000000  | 0.011447603 |  1551.697   |  68.185     |       NA    |      NA     |  322.092    |  896.684    | \n",
       "| 970 | AS14.26     | 2014-05-24  | 7.600000    | -0.2000000  |  1.0000000  | 0.138810683 |  7953.688   | 623.762     |  162.437    |      NA     | 1905.364    | 5561.456    | \n",
       "| 1261 | AS14.33     | 2014-05-24  | 6.400000    | -0.7500000  |  0.2500000  | 0.014286100 | 10875.109   |  78.431     |       NA    |      NA     |  947.927    | 7966.231    | \n",
       "| 864 | AS14.24     | 2014-05-25  | 7.000000    |  0.2500000  |  1.0000000  | 0.045962806 |  6859.747   |  48.402     |       NA    |      NA     | 1230.517    |  894.885    | \n",
       "| 971 | AS14.26     | 2014-05-25  | 8.000000    | -0.5000000  |  1.0000000  | 0.129498162 |  8241.524   |  39.424     |   72.582    |      NA     | 3005.024    | 5127.741    | \n",
       "| 1262 | AS14.33     | 2014-05-25  | 6.250000    | -0.7500000  |  0.3333333  | 0.161470192 |  7342.485   |  42.362     |       NA    |      NA     | 2784.641    | 4436.015    | \n",
       "| 865 | AS14.24     | 2014-05-26  | 7.000000    |  0.8000000  |  1.0000000  | 0.002735434 |  2361.538   |  61.729     |       NA    |      NA     |  565.979    | 1674.314    | \n",
       "| 972 | AS14.26     | 2014-05-26  | 7.200000    |  0.2000000  |  1.0000000  | 0.054653893 |  7007.026   |  55.459     |       NA    |  98.808     | 1379.550    | 5211.927    | \n",
       "| 1263 | AS14.33     | 2014-05-26  | 5.400000    | -0.4000000  |  0.0000000  | 0.115201484 | 18925.188   | 235.837     |       NA    |      NA     | 1048.739    | 6676.801    | \n",
       "| 866 | AS14.24     | 2014-05-27  | 6.200000    |  0.5000000  |  0.6666667  | 0.064399448 |  3875.860   |  55.154     |       NA    |      NA     | 1172.075    | 1663.007    | \n",
       "| 973 | AS14.26     | 2014-05-27  | 5.800000    |  0.0000000  | -0.2000000  | 0.027135702 |  8511.273   |  33.330     |       NA    | 131.164     | 3781.427    | 6948.505    | \n",
       "| 1264 | AS14.33     | 2014-05-27  | 6.200000    | -0.6000000  |  0.4000000  | 0.012704237 |  4089.879   | 142.686     |       NA    |      NA     |  782.564    | 4088.767    | \n",
       "| 867 | AS14.24     | 2014-05-28  | 6.600000    |  0.0000000  |  0.5000000  | 0.098223308 | 10057.185   |  66.320     |  544.488    |      NA     | 2055.828    | 2407.829    | \n",
       "| 1265 | AS14.33     | 2014-05-28  | 8.200000    |  0.0000000  |  1.2000000  | 0.103301170 | 14320.868   | 529.946     |       NA    |      NA     | 2581.712    | 7297.626    | \n",
       "| 868 | AS14.24     | 2014-05-29  | 7.000000    | -0.4000000  |  0.8000000  | 0.018571817 |  4196.083   |  50.695     |       NA    |      NA     | 2042.371    | 3119.232    | \n",
       "| 975 | AS14.26     | 2014-05-29  | 7.400000    |  0.0000000  |  0.8000000  | 0.028571429 |   194.841   |   7.049     |       NA    |      NA     |   21.747    |  150.448    | \n",
       "| 1266 | AS14.33     | 2014-05-29  | 7.000000    | -1.3333333  |  1.0000000  | 0.169354454 |  3569.341   |  29.202     |    0.939    |      NA     |  403.233    | 2225.027    | \n",
       "| 869 | AS14.24     | 2014-05-30  | 7.400000    |  0.2000000  |  1.2000000  | 0.035684248 |  5724.525   |  45.191     |       NA    |      NA     |  812.155    | 3990.802    | \n",
       "| 976 | AS14.26     | 2014-05-30  | 6.400000    | -0.4000000  |  0.0000000  |          NA |        NA   |      NA     |       NA    |      NA     |       NA    |       NA    | \n",
       "| 1267 | AS14.33     | 2014-05-30  | 6.800000    | -0.8000000  | -0.4000000  | 0.192901189 |  9497.647   |  52.610     | 1052.648    |      NA     | 3284.927    | 4837.251    | \n",
       "| 870 | AS14.24     | 2014-05-31  | 7.000000    |  1.0000000  |  1.0000000  | 0.212519562 |  1705.078   |   7.019     |       NA    |      NA     | 1063.115    |  624.496    | \n",
       "| 1268 | AS14.33     | 2014-05-31  | 7.000000    | -2.0000000  |  1.0000000  |          NA |        NA   |      NA     |       NA    |      NA     |       NA    |       NA    | \n",
       "| 871 | AS14.24     | 2014-06-01  | 6.833333    | -1.0000000  |  0.6666667  | 0.047362752 |  5012.921   |  81.069     |       NA    |      NA     | 1593.290    | 3069.282    | \n",
       "| 872 | AS14.24     | 2014-06-02  | 6.750000    |  0.3333333  |  1.0000000  | 0.039047739 |  4468.589   |  22.127     |       NA    |      NA     |  979.919    | 3269.855    | \n",
       "| 873 | AS14.24     | 2014-06-03  | 7.800000    |  0.4000000  |  1.0000000  | 0.091476943 |  6519.176   |  38.605     |       NA    |      NA     | 1591.879    | 4011.863    | \n",
       "| 874 | AS14.24     | 2014-06-04  | 7.000000    |  0.5000000  |  1.0000000  | 0.046384855 |  5223.862   |  38.774     |       NA    |      NA     |  704.660    | 4527.961    | \n",
       "| 875 | AS14.24     | 2014-06-05  | 7.000000    |  0.0000000  |  1.0000000  | 0.152342722 |  2371.589   |  47.360     |  225.737    |      NA     | 1749.277    | 1130.785    | \n",
       "| 876 | AS14.24     | 2014-06-06  | 7.500000    |  0.5000000  |  1.0000000  | 0.189475975 |  2733.332   |  36.414     |       NA    |      NA     |  947.970    | 1710.924    | \n",
       "| 877 | AS14.24     | 2014-06-07  | 8.000000    | -1.0000000  |         NA  | 0.081893238 |  5530.378   |   6.214     |       NA    |      NA     | 5027.498    |  842.815    | \n",
       "| 878 | AS14.24     | 2014-06-08  | 6.500000    | -1.5000000  |  1.0000000  | 0.079510180 |  1131.198   |  18.069     |       NA    |      NA     |  351.389    |  566.275    | \n",
       "\n",
       "\n"
      ],
      "text/plain": [
       "     id      Date       mood     arousal    valence    activity   \n",
       "48   AS14.02 2014-03-16 6.333333  0.0000000  0.0000000          NA\n",
       "138  AS14.05 2014-03-16 6.333333 -0.6666667  0.0000000          NA\n",
       "293  AS14.08 2014-03-16 7.000000 -1.2500000  1.2500000          NA\n",
       "434  AS14.13 2014-03-16 6.400000 -1.0000000  0.2000000          NA\n",
       "530  AS14.15 2014-03-16 6.166667 -0.6666667  0.3333333          NA\n",
       "586  AS14.16 2014-03-16 6.600000 -0.8000000  0.5000000          NA\n",
       "49   AS14.02 2014-03-17 6.750000  0.5000000  0.5000000 0.168068415\n",
       "139  AS14.05 2014-03-17 6.000000 -0.4000000  0.4000000 0.083370521\n",
       "294  AS14.08 2014-03-17 5.400000  0.0000000  0.2000000 0.005555556\n",
       "435  AS14.13 2014-03-17 6.600000  0.0000000  0.8000000          NA\n",
       "531  AS14.15 2014-03-17 6.400000  0.0000000  0.0000000 0.000000000\n",
       "587  AS14.16 2014-03-17 7.200000 -0.6000000  0.6000000 0.060714286\n",
       "50   AS14.02 2014-03-18 8.200000  0.6000000  0.8000000 0.219484384\n",
       "140  AS14.05 2014-03-18 7.500000  0.2500000  1.0000000 0.113195906\n",
       "295  AS14.08 2014-03-18 6.400000 -0.2000000  0.6000000 0.028491362\n",
       "436  AS14.13 2014-03-18 7.000000 -0.2000000  0.8000000          NA\n",
       "532  AS14.15 2014-03-18 7.200000  0.4000000  1.2000000 0.118737145\n",
       "588  AS14.16 2014-03-18 6.600000  0.4000000  0.6000000 0.053911910\n",
       "51   AS14.02 2014-03-19 6.800000  0.4000000  0.4000000 0.315631757\n",
       "141  AS14.05 2014-03-19 6.750000  1.0000000  0.7500000 0.133691265\n",
       "234  AS14.07 2014-03-19 6.800000 -1.0000000  1.4000000          NA\n",
       "296  AS14.08 2014-03-19 7.000000 -0.2000000  1.0000000 0.063017163\n",
       "437  AS14.13 2014-03-19 7.800000 -0.2000000  1.2000000          NA\n",
       "533  AS14.15 2014-03-19 7.400000  0.2000000  1.2000000          NA\n",
       "589  AS14.16 2014-03-19 6.400000  0.0000000  0.6000000 0.005627706\n",
       "52   AS14.02 2014-03-20 7.250000 -0.5000000  0.7500000 0.239024960\n",
       "142  AS14.05 2014-03-20 7.200000  1.0000000  0.8000000 0.118456799\n",
       "235  AS14.07 2014-03-20 5.250000 -0.7500000 -0.2500000          NA\n",
       "297  AS14.08 2014-03-20 6.400000 -0.2000000  0.8000000 0.057523878\n",
       "438  AS14.13 2014-03-20 6.400000  0.8000000  0.2000000 0.287517396\n",
       "⋮    ⋮       ⋮          ⋮        ⋮          ⋮          ⋮          \n",
       "863  AS14.24 2014-05-24 7.200000  0.0000000  0.8000000 0.011447603\n",
       "970  AS14.26 2014-05-24 7.600000 -0.2000000  1.0000000 0.138810683\n",
       "1261 AS14.33 2014-05-24 6.400000 -0.7500000  0.2500000 0.014286100\n",
       "864  AS14.24 2014-05-25 7.000000  0.2500000  1.0000000 0.045962806\n",
       "971  AS14.26 2014-05-25 8.000000 -0.5000000  1.0000000 0.129498162\n",
       "1262 AS14.33 2014-05-25 6.250000 -0.7500000  0.3333333 0.161470192\n",
       "865  AS14.24 2014-05-26 7.000000  0.8000000  1.0000000 0.002735434\n",
       "972  AS14.26 2014-05-26 7.200000  0.2000000  1.0000000 0.054653893\n",
       "1263 AS14.33 2014-05-26 5.400000 -0.4000000  0.0000000 0.115201484\n",
       "866  AS14.24 2014-05-27 6.200000  0.5000000  0.6666667 0.064399448\n",
       "973  AS14.26 2014-05-27 5.800000  0.0000000 -0.2000000 0.027135702\n",
       "1264 AS14.33 2014-05-27 6.200000 -0.6000000  0.4000000 0.012704237\n",
       "867  AS14.24 2014-05-28 6.600000  0.0000000  0.5000000 0.098223308\n",
       "1265 AS14.33 2014-05-28 8.200000  0.0000000  1.2000000 0.103301170\n",
       "868  AS14.24 2014-05-29 7.000000 -0.4000000  0.8000000 0.018571817\n",
       "975  AS14.26 2014-05-29 7.400000  0.0000000  0.8000000 0.028571429\n",
       "1266 AS14.33 2014-05-29 7.000000 -1.3333333  1.0000000 0.169354454\n",
       "869  AS14.24 2014-05-30 7.400000  0.2000000  1.2000000 0.035684248\n",
       "976  AS14.26 2014-05-30 6.400000 -0.4000000  0.0000000          NA\n",
       "1267 AS14.33 2014-05-30 6.800000 -0.8000000 -0.4000000 0.192901189\n",
       "870  AS14.24 2014-05-31 7.000000  1.0000000  1.0000000 0.212519562\n",
       "1268 AS14.33 2014-05-31 7.000000 -2.0000000  1.0000000          NA\n",
       "871  AS14.24 2014-06-01 6.833333 -1.0000000  0.6666667 0.047362752\n",
       "872  AS14.24 2014-06-02 6.750000  0.3333333  1.0000000 0.039047739\n",
       "873  AS14.24 2014-06-03 7.800000  0.4000000  1.0000000 0.091476943\n",
       "874  AS14.24 2014-06-04 7.000000  0.5000000  1.0000000 0.046384855\n",
       "875  AS14.24 2014-06-05 7.000000  0.0000000  1.0000000 0.152342722\n",
       "876  AS14.24 2014-06-06 7.500000  0.5000000  1.0000000 0.189475975\n",
       "877  AS14.24 2014-06-07 8.000000 -1.0000000         NA 0.081893238\n",
       "878  AS14.24 2014-06-08 6.500000 -1.5000000  1.0000000 0.079510180\n",
       "     screentime..s. other..s. travel..s. weather..s. buu      coso     \n",
       "48   4.902627e+03    408.106       NA    NA          2437.046  3333.420\n",
       "138  5.548049e+03     88.685       NA    NA           473.490  4189.964\n",
       "293  2.440103e+03     56.275       NA    NA           160.349  2222.867\n",
       "434  4.920904e+03   2366.203       NA    NA           270.654  1220.631\n",
       "530            NA         NA       NA    NA                NA        NA\n",
       "586  3.646920e+02     38.152       NA    NA           185.558   120.445\n",
       "49   1.015977e+04    103.699       NA    NA          1229.347  4621.144\n",
       "139  5.613824e+03    148.272       NA    NA           865.993  1774.029\n",
       "294  1.418689e+03     68.395       NA    NA            56.584 12736.950\n",
       "435  3.146816e+03    701.473  236.148    NA          1039.648  1441.641\n",
       "531  6.949999e-01         NA       NA    NA             6.644        NA\n",
       "587  7.143030e+02     15.073       NA    NA            47.283   650.980\n",
       "50   4.512471e+03     88.722       NA    NA          2604.521  4145.445\n",
       "140  7.177026e+03     67.334       NA    NA           508.979  4411.521\n",
       "295  1.318170e+03     47.137       NA    NA             5.920  1120.333\n",
       "436  2.748714e+03    981.155       NA    NA           556.450  6298.983\n",
       "532  3.214629e+03     54.256   94.552    NA          1366.137  1780.747\n",
       "588  7.863110e+02     11.054       NA    NA           190.195   464.504\n",
       "51   8.182757e+03    105.536  567.165    NA          1554.558  2644.804\n",
       "141  6.095810e+03    122.397       NA    NA           274.290  4320.741\n",
       "234  1.152684e+04     90.872  145.957    NA          2059.800  7420.665\n",
       "296  1.827460e+03     64.362       NA    NA            68.033  1666.947\n",
       "437  1.516440e+04   4203.599       NA    NA           790.380  9838.858\n",
       "533            NA         NA       NA    NA                NA        NA\n",
       "589  2.635700e+01     22.176       NA    NA            32.349        NA\n",
       "52   4.360334e+03     86.857       NA    NA          1777.977  2285.969\n",
       "142  4.862866e+03    157.196       NA    NA           122.208  4486.863\n",
       "235  1.073889e+04     87.433       NA    NA          1493.619  7979.570\n",
       "297  1.096550e+03     48.010       NA    NA          4862.881   948.766\n",
       "438  8.615405e+03    626.924       NA    NA           462.368  8153.821\n",
       "⋮    ⋮              ⋮         ⋮          ⋮           ⋮        ⋮        \n",
       "863   1551.697       68.185         NA        NA      322.092  896.684 \n",
       "970   7953.688      623.762    162.437        NA     1905.364 5561.456 \n",
       "1261 10875.109       78.431         NA        NA      947.927 7966.231 \n",
       "864   6859.747       48.402         NA        NA     1230.517  894.885 \n",
       "971   8241.524       39.424     72.582        NA     3005.024 5127.741 \n",
       "1262  7342.485       42.362         NA        NA     2784.641 4436.015 \n",
       "865   2361.538       61.729         NA        NA      565.979 1674.314 \n",
       "972   7007.026       55.459         NA    98.808     1379.550 5211.927 \n",
       "1263 18925.188      235.837         NA        NA     1048.739 6676.801 \n",
       "866   3875.860       55.154         NA        NA     1172.075 1663.007 \n",
       "973   8511.273       33.330         NA   131.164     3781.427 6948.505 \n",
       "1264  4089.879      142.686         NA        NA      782.564 4088.767 \n",
       "867  10057.185       66.320    544.488        NA     2055.828 2407.829 \n",
       "1265 14320.868      529.946         NA        NA     2581.712 7297.626 \n",
       "868   4196.083       50.695         NA        NA     2042.371 3119.232 \n",
       "975    194.841        7.049         NA        NA       21.747  150.448 \n",
       "1266  3569.341       29.202      0.939        NA      403.233 2225.027 \n",
       "869   5724.525       45.191         NA        NA      812.155 3990.802 \n",
       "976         NA           NA         NA        NA           NA       NA \n",
       "1267  9497.647       52.610   1052.648        NA     3284.927 4837.251 \n",
       "870   1705.078        7.019         NA        NA     1063.115  624.496 \n",
       "1268        NA           NA         NA        NA           NA       NA \n",
       "871   5012.921       81.069         NA        NA     1593.290 3069.282 \n",
       "872   4468.589       22.127         NA        NA      979.919 3269.855 \n",
       "873   6519.176       38.605         NA        NA     1591.879 4011.863 \n",
       "874   5223.862       38.774         NA        NA      704.660 4527.961 \n",
       "875   2371.589       47.360    225.737        NA     1749.277 1130.785 \n",
       "876   2733.332       36.414         NA        NA      947.970 1710.924 \n",
       "877   5530.378        6.214         NA        NA     5027.498  842.815 \n",
       "878   1131.198       18.069         NA        NA      351.389  566.275 "
      ]
     },
     "metadata": {},
     "output_type": "display_data"
    }
   ],
   "source": [
    "# check again for missing values\n",
    "dt2[!complete.cases(dt2),]"
   ]
  },
  {
   "cell_type": "code",
   "execution_count": null,
   "metadata": {
    "collapsed": true
   },
   "outputs": [],
   "source": []
  }
 ],
 "metadata": {
  "kernelspec": {
   "display_name": "R",
   "language": "R",
   "name": "ir"
  },
  "language_info": {
   "codemirror_mode": "r",
   "file_extension": ".r",
   "mimetype": "text/x-r-source",
   "name": "R",
   "pygments_lexer": "r",
   "version": "3.4.3"
  }
 },
 "nbformat": 4,
 "nbformat_minor": 2
}
